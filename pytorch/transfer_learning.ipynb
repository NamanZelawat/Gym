{
 "cells": [
  {
   "cell_type": "markdown",
   "id": "566279fc-5b85-474d-b3a4-e6ce74833234",
   "metadata": {},
   "source": [
    "# PyTorch transfer learning\n",
    "\n",
    "Tranferring the weights of a pretrained model to use for our own. "
   ]
  },
  {
   "cell_type": "code",
   "execution_count": 1,
   "id": "5a5e15ec-7ef5-4e73-b8e5-37e771649224",
   "metadata": {},
   "outputs": [
    {
     "name": "stdout",
     "output_type": "stream",
     "text": [
      "2.6.0+cu126\n",
      "0.21.0+cu126\n"
     ]
    }
   ],
   "source": [
    "import torch\n",
    "import torchvision\n",
    "\n",
    "print(torch.__version__)\n",
    "print(torchvision.__version__)"
   ]
  },
  {
   "cell_type": "markdown",
   "id": "ecfbb2d2-65fc-4d48-91fe-248f0156f5f4",
   "metadata": {},
   "source": [
    "### Lets import the code we have already written."
   ]
  },
  {
   "cell_type": "code",
   "execution_count": 5,
   "id": "6dd0e928-670b-4d11-ae9b-f212bbbfa73c",
   "metadata": {},
   "outputs": [],
   "source": [
    "# Continue with regular imports\n",
    "import matplotlib.pyplot as plt\n",
    "import torch\n",
    "import torchvision\n",
    "\n",
    "from torch import nn\n",
    "from torchvision import transforms\n",
    "\n",
    "# Try to get torchinfo, install it if it doesn't work\n",
    "try:\n",
    "    from torchinfo import summary\n",
    "except:\n",
    "    print(\"[INFO] Couldn't find torchinfo... installing it.\")\n",
    "    !pip install -q torchinfo\n",
    "    from torchinfo import summary\n",
    "\n",
    "# Try to import the going_modular directory, download it from GitHub if it doesn't work\n",
    "try:\n",
    "    from going_modular import data_setup, engine\n",
    "except:\n",
    "    # Get the going_modular scripts\n",
    "    print(\"[INFO] Couldn't find going_modular scripts... downloading them from GitHub.\")\n",
    "    !git clone https://github.com/mrdbourke/pytorch-deep-learning\n",
    "    !mv pytorch-deep-learning/going_modular .\n",
    "    !rm -rf pytorch-deep-learning\n",
    "    from going_modular.going_modular import data_setup, engine"
   ]
  },
  {
   "cell_type": "code",
   "execution_count": 6,
   "id": "e3602c6e-b2b1-4cb7-89c4-59c997fd7f6c",
   "metadata": {},
   "outputs": [
    {
     "data": {
      "text/plain": [
       "'cuda'"
      ]
     },
     "execution_count": 6,
     "metadata": {},
     "output_type": "execute_result"
    }
   ],
   "source": [
    "# Setup device agnostic code\n",
    "device = \"cuda\" if torch.cuda.is_available() else \"cpu\"\n",
    "device"
   ]
  },
  {
   "cell_type": "markdown",
   "id": "484cd1c1-db25-46d6-9402-d4e47070e994",
   "metadata": {},
   "source": [
    "## Get the data\n",
    "\n",
    "Get our pizza sushi steak data to use."
   ]
  },
  {
   "cell_type": "code",
   "execution_count": null,
   "id": "28c858c7-cbf4-4b68-a985-eb8b255b6f6e",
   "metadata": {},
   "outputs": [],
   "source": [
    "import os\n",
    "import zipfile\n",
    "\n",
    "from pathlib import Path\n",
    "\n",
    "import requests\n",
    "\n",
    "# Setup data path\n",
    "data_path = Path(\"data/\")\n",
    "image_path = data_path / \"pizza_steak_sushi\"\n",
    "\n",
    "# If the image folder doesn't exist then we download it\n",
    "if image_path.is_dir():\n",
    "    print(\"Directory already exists...\")\n",
    "else:\n",
    "    print(\"Directory not found, downloading...\")\n",
    "    image_path.mkdir(parents=True, exist_ok=True)\n",
    "\n",
    "    # Download the data\n",
    "    with open(data_path/\"pizza_steak_sushi.zip\", \"wb\") as f:\n",
    "        request = requests.get(\"\")"
   ]
  }
 ],
 "metadata": {
  "kernelspec": {
   "display_name": "Python 3 (ipykernel)",
   "language": "python",
   "name": "python3"
  },
  "language_info": {
   "codemirror_mode": {
    "name": "ipython",
    "version": 3
   },
   "file_extension": ".py",
   "mimetype": "text/x-python",
   "name": "python",
   "nbconvert_exporter": "python",
   "pygments_lexer": "ipython3",
   "version": "3.10.11"
  }
 },
 "nbformat": 4,
 "nbformat_minor": 5
}
