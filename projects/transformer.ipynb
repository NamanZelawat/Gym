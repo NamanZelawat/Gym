{
 "cells": [
  {
   "cell_type": "code",
   "execution_count": 2,
   "id": "d08cccc1-98f7-418e-bb43-f86a60bb2902",
   "metadata": {},
   "outputs": [
    {
     "name": "stderr",
     "output_type": "stream",
     "text": [
      "--2025-06-28 15:25:54--  https://raw.githubusercontent.com/karpathy/char-rnn/refs/heads/master/data/tinyshakespeare/input.txt\n",
      "Resolving raw.githubusercontent.com... 185.199.111.133, 185.199.108.133, 185.199.109.133, ...\n",
      "Connecting to raw.githubusercontent.com|185.199.111.133|:443... connected.\n",
      "WARNING: cannot verify raw.githubusercontent.com's certificate, issued by '/C=GB/ST=Greater Manchester/L=Salford/O=Sectigo Limited/CN=Sectigo RSA Domain Validation Secure Server CA':\n",
      "  Unable to locally verify the issuer's authority.\n",
      "HTTP request sent, awaiting response... 200 OK\n",
      "Length: 1115394 (1.1M) [text/plain]\n",
      "Saving to: 'input.txt'\n",
      "\n",
      "     0K .......... .......... .......... .......... ..........  4% 3.30M 0s\n",
      "    50K .......... .......... .......... .......... ..........  9% 6.46M 0s\n",
      "   100K .......... .......... .......... .......... .......... 13% 5.04M 0s\n",
      "   150K .......... .......... .......... .......... .......... 18% 4.90M 0s\n",
      "   200K .......... .......... .......... .......... .......... 22% 5.92M 0s\n",
      "   250K .......... .......... .......... .......... .......... 27% 6.06M 0s\n",
      "   300K .......... .......... .......... .......... .......... 32% 5.78M 0s\n",
      "   350K .......... .......... .......... .......... .......... 36% 5.66M 0s\n",
      "   400K .......... .......... .......... .......... .......... 41% 6.66M 0s\n",
      "   450K .......... .......... .......... .......... .......... 45% 5.50M 0s\n",
      "   500K .......... .......... .......... .......... .......... 50% 6.12M 0s\n",
      "   550K .......... .......... .......... .......... .......... 55% 6.12M 0s\n",
      "   600K .......... .......... .......... .......... .......... 59% 4.76M 0s\n",
      "   650K .......... .......... .......... .......... .......... 64% 6.22M 0s\n",
      "   700K .......... .......... .......... .......... .......... 68% 6.06M 0s\n",
      "   750K .......... .......... .......... .......... .......... 73% 5.72M 0s\n",
      "   800K .......... .......... .......... .......... .......... 78% 6.63M 0s\n",
      "   850K .......... .......... .......... .......... .......... 82% 5.66M 0s\n",
      "   900K .......... .......... .......... .......... .......... 87% 5.08M 0s\n",
      "   950K .......... .......... .......... .......... .......... 91% 6.71M 0s\n",
      "  1000K .......... .......... .......... .......... .......... 96% 4.47M 0s\n",
      "  1050K .......... .......... .......... .........            100% 10.5M=0.2s\n",
      "\n",
      "2025-06-28 15:25:55 (5.61 MB/s) - 'input.txt' saved [1115394/1115394]\n",
      "\n"
     ]
    }
   ],
   "source": [
    "!wget --no-check-certificate https://raw.githubusercontent.com/karpathy/char-rnn/refs/heads/master/data/tinyshakespeare/input.txt"
   ]
  },
  {
   "cell_type": "code",
   "execution_count": 3,
   "id": "e530594b-7a9a-433e-88ae-b7f6b4fbc8f2",
   "metadata": {},
   "outputs": [],
   "source": [
    "with open(\"input.txt\", 'r', encoding='utf-8') as f:\n",
    "    text = f.read()"
   ]
  },
  {
   "cell_type": "code",
   "execution_count": 5,
   "id": "24859800-d554-4232-8353-9dd4008276aa",
   "metadata": {},
   "outputs": [
    {
     "name": "stdout",
     "output_type": "stream",
     "text": [
      "First Citizen:\n",
      "Before we proceed any further, hear me speak.\n",
      "\n",
      "All:\n",
      "Speak, speak.\n",
      "\n",
      "First Citizen:\n",
      "You are all resolved rather to die than to famish?\n",
      "\n",
      "All:\n",
      "Resolved. resolved.\n",
      "\n",
      "First Citizen:\n",
      "First, you know Caius Marcius is chief enemy to the people.\n",
      "\n",
      "All:\n",
      "We know't, we know't.\n",
      "\n",
      "First Citizen:\n",
      "Let us kill him, and we'll have corn at our own price.\n",
      "Is't a verdict?\n",
      "\n",
      "All:\n",
      "No more talking on't; let it be done: away, away!\n",
      "\n",
      "Second Citizen:\n",
      "One word, good citizens.\n",
      "\n",
      "First Citizen:\n",
      "We are accounted poor citizens, the patricians good.\n",
      "What authority surfeits on would relieve us: if they\n",
      "would yield us but the superfluity, while it were\n",
      "wholesome, we might guess they relieved us humanely;\n",
      "but they think we are too dear: the leanness that\n",
      "afflicts us, the object of our misery, is as an\n",
      "inventory to particularise their abundance; our\n",
      "sufferance is a gain to them Let us revenge this with\n",
      "our pikes, ere we become rakes: for the gods know I\n",
      "speak this in hunger for bread, not in thirst for revenge.\n",
      "\n",
      "\n"
     ]
    }
   ],
   "source": [
    "print(text[:1000])"
   ]
  },
  {
   "cell_type": "code",
   "execution_count": null,
   "id": "207aa344-54ee-41a4-aa69-a8800345a12a",
   "metadata": {},
   "outputs": [],
   "source": []
  }
 ],
 "metadata": {
  "kernelspec": {
   "display_name": "Python 3 (ipykernel)",
   "language": "python",
   "name": "python3"
  },
  "language_info": {
   "codemirror_mode": {
    "name": "ipython",
    "version": 3
   },
   "file_extension": ".py",
   "mimetype": "text/x-python",
   "name": "python",
   "nbconvert_exporter": "python",
   "pygments_lexer": "ipython3",
   "version": "3.10.11"
  }
 },
 "nbformat": 4,
 "nbformat_minor": 5
}
